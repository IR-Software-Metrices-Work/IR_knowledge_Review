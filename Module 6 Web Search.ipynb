{
 "cells": [
  {
   "cell_type": "markdown",
   "id": "3ad53c6e",
   "metadata": {},
   "source": [
    "# Module 6 - Web Search"
   ]
  },
  {
   "cell_type": "markdown",
   "id": "099fbb67",
   "metadata": {},
   "source": [
    "## Agenda\n",
    "- www\n",
    "- Web Search engine\n",
    "- Link analysis"
   ]
  },
  {
   "cell_type": "markdown",
   "id": "3d20df63",
   "metadata": {},
   "source": [
    "## Web Crawler\n",
    "\n",
    "- Begin with a comprehensive set of seed url's from which to start the search by putting them all in the queue.\n",
    "- For each url, fetch, parse and extract all the urls in the page recursively to find additional pages\n",
    "- Index all the urls to the newly found pages and place them in the queue\n",
    "- Repeat\n",
    "\n",
    "### Some Difficulites\n",
    "- not an app fit for one single computer - distributed computing required\n",
    "- Full of malicious pages out there\n",
    "- Mirrors and duplicate pages\n",
    "- Resource availability - latency | bandwidth\n",
    "- Etiquette\n",
    "\n",
    "### What to concern when building a crawler\n",
    "\n",
    "- capability - can be computed in parallel, can scale large, and have high efficiency\n",
    "- Robustness - immune to numerous malicious behavior from web servers\n",
    "- Politness - respect implicit and explicit politness considerations"
   ]
  },
  {
   "cell_type": "markdown",
   "id": "60f57e46",
   "metadata": {},
   "source": [
    "## Link analysis"
   ]
  },
  {
   "cell_type": "markdown",
   "id": "0952527d",
   "metadata": {},
   "source": [
    "- Aside the textual properties, authority also appears to be an important information source for ranking\n",
    "- Powerful Source of authenticity and authority\n",
    "- We extract anchor text\n",
    "- but we don't know how much score to give to a page until we fully analyze all the links"
   ]
  },
  {
   "cell_type": "markdown",
   "id": "c2ab079b",
   "metadata": {},
   "source": [
    "## Pagerank Scoring\n",
    "\n",
    "- Pagerank attempts to solve this problem in an intelligent way\n",
    "    - Represent the entire system as probabilistic model\n",
    "    - Use iterative algorithm - iteratively propagate the scores of each webpage to the others, until the scoring of the entire web graph is converged\n",
    "\n",
    "- The original Pagerank assumes that it is an equal probability a user will click a link over all the other liknks in a page\n",
    "\n",
    "- Propagation of these probability will eventually converged.\n",
    "\n",
    "- web pagees are full of dead-ends\n",
    "\n",
    "- These webs will not further propagate their score"
   ]
  },
  {
   "cell_type": "markdown",
   "id": "506109b2",
   "metadata": {},
   "source": [
    "## Teleporting\n",
    "\n",
    "- Attempting to solve the dead-ends, by mimicking that user can simply put a url to any web and instantly leave a page\n",
    "- In the original Pagerank paper, the link analysis score takes 85%, then the other 15% propagates to all the pages in the system."
   ]
  },
  {
   "cell_type": "code",
   "execution_count": null,
   "id": "2789889f",
   "metadata": {},
   "outputs": [],
   "source": []
  }
 ],
 "metadata": {
  "kernelspec": {
   "display_name": "Python 3 (ipykernel)",
   "language": "python",
   "name": "python3"
  },
  "language_info": {
   "codemirror_mode": {
    "name": "ipython",
    "version": 3
   },
   "file_extension": ".py",
   "mimetype": "text/x-python",
   "name": "python",
   "nbconvert_exporter": "python",
   "pygments_lexer": "ipython3",
   "version": "3.9.7"
  }
 },
 "nbformat": 4,
 "nbformat_minor": 5
}
