{
 "cells": [
  {
   "cell_type": "markdown",
   "id": "ea1dc670",
   "metadata": {},
   "source": [
    "# Module0 Summary"
   ]
  },
  {
   "cell_type": "markdown",
   "id": "1e13c9bd",
   "metadata": {},
   "source": [
    "## What will be in IR\n",
    "\n",
    "- Fundamental of IR\n",
    "- Indexing\n",
    "- Vector-Space model\n",
    "- Evaluation in IR\n",
    "- Web search (Search engine)\n",
    "- Basic machine-learning in IR\n",
    "- Showcases and applications"
   ]
  },
  {
   "cell_type": "markdown",
   "id": "2eca8000",
   "metadata": {},
   "source": [
    "## What is IR\n",
    "\n",
    "- it is a science of searching for information in document\n",
    "- searching for documents themselves\n",
    "- searching for the metadata\n",
    "- meta data is a data that provides information about other data\n",
    "   - text\n",
    "   - image\n",
    "   - sound\n",
    "   - statistical data\n",
    "   - permission\n",
    "   - legal"
   ]
  },
  {
   "cell_type": "markdown",
   "id": "6e9888ee",
   "metadata": {},
   "source": [
    "### This is part of IR, IR not about the web search\n",
    "\n",
    "![The web search service](https://www.reliablesoft.net/wp-content/uploads/2016/12/top-search-engines-oct-2020.png)"
   ]
  },
  {
   "cell_type": "markdown",
   "id": "c4c08a89",
   "metadata": {},
   "source": [
    "## Basic assumption of IR\n",
    "\n",
    "- information is stored in a set of document\n",
    "\n",
    "- IR system retrives documents with information \n",
    "\n",
    "- The information that we retrives is most relevant ot the user's need\n",
    "\n",
    "- THe information also helps that user complete a tasks"
   ]
  },
  {
   "cell_type": "markdown",
   "id": "dcebaae6",
   "metadata": {},
   "source": [
    "### Data are born unstructured\n",
    "\n",
    "#### Structured data (not interesting in this course)\n",
    "\n",
    "- clearly define type\n",
    "- mostly fit in pattern \n",
    "- it also make them easily searchable\n",
    "- linkable\n",
    "- comparable\n",
    "\n",
    "#### The unstructured Data\n",
    "- of course it not structed\n",
    "- don't have a pre-defined data model\n",
    "- don't have a schema\n",
    "- and it is everywhere\n",
    "- like random picture\n",
    "- sound \n",
    "- random text on internet\n",
    "- random video on youtube\n",
    "\n",
    "![unstructdata](https://www.egnyte.com/sites/default/files/inline-images/zITEmudg0OvGfRblGApjWuFu20xY1NCNAnmu8O52KKtD4FLSPG.png)"
   ]
  },
  {
   "cell_type": "markdown",
   "id": "e0239970",
   "metadata": {},
   "source": [
    "## History time!!"
   ]
  },
  {
   "cell_type": "markdown",
   "id": "1978aeb8",
   "metadata": {},
   "source": [
    "### Very first form of IR\n",
    "\n",
    "- the ancient libraries `built ~300 BC`\n",
    "- instead of book it collect scrolls\n",
    "- and there so much scrolls out there\n",
    "- how the ancient people searching something that they interest?\n",
    "\n",
    "![scroll](https://www.thevintagenews.com/wp-content/uploads/2019/10/pompeii_scroll-1280x720.jpg)\n",
    "\n"
   ]
  },
  {
   "cell_type": "markdown",
   "id": "32bce1e0",
   "metadata": {},
   "source": [
    "### First Attempt of people do IR\n",
    "\n",
    "- Callimachus, a scholar at the alexandria libranry\n",
    "- He invent something called `Pinakes`\n",
    "- It is considered as the earliest library catalog.\n",
    "- because it devided in genres and categories\n",
    "   - law\n",
    "   - poetry\n",
    "   - history\n",
    "   - medicine\n",
    "   - math\n",
    "- suddently become the model for organizing knowledge throughout the Mediteranean\n",
    "\n",
    "#### The pinakes\n",
    "\n",
    "![pinakes](https://api.time.com/wp-content/uploads/2017/04/library-at-alexandria.jpg)\n"
   ]
  },
  {
   "cell_type": "markdown",
   "id": "a0eb1d11",
   "metadata": {},
   "source": [
    "### Librarian's standard\n",
    "- invented by Anthony Panizzi and Melvil Dewey\n",
    "- Libranrian's STD called `Decimal Classification`\n",
    "\n",
    "![Decimal Class](http://jldmlibrary.aup.edu.ph/images/2021/05/05/DDC.jpg)"
   ]
  },
  {
   "cell_type": "markdown",
   "id": "0b17a24b",
   "metadata": {},
   "source": [
    "### What we learn so far\n",
    "- Categorization can help us narrowing the search scope.\n",
    "- Precisely locate the information in content-level is still far from reality"
   ]
  },
  {
   "cell_type": "markdown",
   "id": "8cfb339f",
   "metadata": {},
   "source": [
    "## IR Machines\n",
    "\n",
    "- [Emanuel Goldberg's Statistical machines (1931)](https://history-computer.com/emanuel-goldberg/)\n",
    "   - doing the lbelling and indexing\n",
    "- [Zatocoding (1950)](https://en.wikipedia.org/wiki/Superimposed_code)\n",
    "   - invented by `Calvin Mooers`\n",
    "- [Coordinate Indexing(1952)](https://en.wikipedia.org/wiki/Uniterm)\n",
    "   - invented by `Mortimer Taube`\n",
    "   - use the uniterms technique to context of cataloging\n",
    "- [Evaluation in IR (1960s)](https://www.bualabs.com/archives/1968/what-is-confusion-matrix-what-is-metrics-accuracy-precision-recall-f1-score-difference-metrics-ep-1/)"
   ]
  },
  {
   "cell_type": "markdown",
   "id": "f436df43",
   "metadata": {},
   "source": [
    "## IR Ranking\n",
    "- Hand Perter Luhn (1957) : Term Frequencies (TF)\n",
    "- Karen Sparck-Jones (1972) : Inverse document frequency (IDF)\n",
    "- Gerad Salton (1975) : TF-IDF\n",
    "- Ian Witten, Alistair Moffat, Timothy Bell (1994) : Compression\n",
    "- Stephen Roberson (1994) : BM25\n",
    "- Bruce Croft (1998) : Language Model\n",
    "- Sergey Brin and Larry Page (1998) : PageRank\n",
    "- Recent day : Larning to Rank\n",
    "\n",
    "![tf-idf](https://miro.medium.com/max/700/1*qQgnyPLDIkUmeZKN2_ZWbQ.png)"
   ]
  },
  {
   "cell_type": "code",
   "execution_count": null,
   "id": "2403d2e9",
   "metadata": {},
   "outputs": [],
   "source": []
  }
 ],
 "metadata": {
  "kernelspec": {
   "display_name": "Python 3 (ipykernel)",
   "language": "python",
   "name": "python3"
  },
  "language_info": {
   "codemirror_mode": {
    "name": "ipython",
    "version": 3
   },
   "file_extension": ".py",
   "mimetype": "text/x-python",
   "name": "python",
   "nbconvert_exporter": "python",
   "pygments_lexer": "ipython3",
   "version": "3.9.7"
  }
 },
 "nbformat": 4,
 "nbformat_minor": 5
}
