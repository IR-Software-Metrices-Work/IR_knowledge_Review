{
 "cells": [
  {
   "cell_type": "markdown",
   "id": "3243d127",
   "metadata": {},
   "source": [
    "# Module 1 : The IR Overview"
   ]
  },
  {
   "cell_type": "markdown",
   "id": "595c3ee8",
   "metadata": {},
   "source": [
    "## How to approach the any problem or any question\n",
    "\n",
    "### Crawling\n",
    "\n",
    "get the raw data from anywhere\n",
    "\n",
    "### Listing\n",
    "\n",
    "list all the data that we need to see\n",
    "\n",
    "### Summarizing\n",
    "\n",
    "from the listing pharse, we just pick the data that we going to conclude"
   ]
  },
  {
   "cell_type": "markdown",
   "id": "929fcaca",
   "metadata": {},
   "source": [
    "## Problem that going to face\n",
    "\n",
    "- Super Slow\n",
    "- Question cannot be esaily modified\n",
    "- Question also cannot instantly get the answer"
   ]
  },
  {
   "cell_type": "markdown",
   "id": "5226b8ba",
   "metadata": {},
   "source": [
    "## How about we using the Inverted Index\n",
    "\n",
    "- For each term `t`, we store a list of all documents that containt `t`\n",
    "  - Identify each doc by a docID, a document serial number\n",
    " \n",
    "![invertINX](https://i.stack.imgur.com/iGri3.png)"
   ]
  },
  {
   "cell_type": "markdown",
   "id": "6b91f212",
   "metadata": {},
   "source": [
    "## Constructing the Inverted Index\n",
    "\n",
    "### 1. Get the document to be indexed"
   ]
  },
  {
   "cell_type": "markdown",
   "id": "39fcd41c",
   "metadata": {},
   "source": [
    "### 2. Tokenization\n",
    "\n",
    "#### 2.1 Cut the character sequence into word tokens\n",
    "\n",
    "\"Harry Potter and The Half Blood Prince\" -> \"Harry\",\"Potter\",\"and\",\"Half\",\"Blood\",\"Price\"\n",
    "\n",
    "#### 2.2 Normalization\n",
    "\n",
    "Map text and query term to same form,\n",
    "\n",
    "\"S.Q.L\" -> \"SQL\" , \"F.R.I.E.N.D\" -> \"FRIEND\"\n",
    "\n",
    "#### 2.3 Lower case all the raw text\n",
    "\n",
    "\"Harry\",\"Potter\",\"and\",\"Half\",\"Blood\",\"Price\" -> \"harry\",\"potter\",\"and\",\"half\",\"blood\",\"price\"\n",
    "\n",
    "\n",
    "#### 2.4 Stemming\n",
    "\n",
    "use the root form of the word\n",
    "\n",
    "\"developed\" -> \"develop\"\n",
    "\n",
    "\"developing\" -> \"develop\"\n",
    "\n",
    "#### 2.5 removing the stop word\n",
    "\n",
    "these word `and, or, not, a, an, the, to, etc.`\n",
    "\n",
    "![tokenizer](https://www.researchgate.net/profile/Eman-Btoush/publication/275952818/figure/fig3/AS:294516750864387@1447229673682/Tokenization-Example.png)"
   ]
  },
  {
   "cell_type": "markdown",
   "id": "deb04ad1",
   "metadata": {},
   "source": [
    "### 3.Indexer\n",
    "\n",
    "#### 3.1 Token sequence\n",
    "![tokenseq](https://iq.opengenus.org/content/images/2020/11/untitled--1--ink.png)\n",
    "\n",
    "#### 3.2 Sorting by Term\n",
    "![sotingterm](https://iq.opengenus.org/content/images/2020/11/untitled--2--ink.png)\n",
    "\n",
    "#### 3.3 Dictaionary & Posting\n",
    "     - merge the multiple term from any document\n",
    "     - split into dictionary and postings\n",
    "     - doc. frequency information is added\n",
    "     \n",
    "![Dictionary_Posting](https://iq.opengenus.org/content/images/2020/11/untitled--3--ink.png)"
   ]
  },
  {
   "cell_type": "markdown",
   "id": "6a31e502",
   "metadata": {},
   "source": [
    "## To Query from the model\n",
    "\n",
    "### `AND` keyword\n",
    "\n",
    "- example \"What you going to choose `Jen or Max`?\"\n",
    "- locate `Jen` in the dictionary and get it's Posting list\n",
    "- locate `Max` in the dictionary and get it's Posting list\n",
    "- Merge the two Posting list (intersection)\n",
    "\n",
    "\n",
    "### `OR` keyword\n",
    "\n",
    "- example \"What you going to choose `Jen or Max`?\"\n",
    "- locate `Jen` in the dictionary and get it's Posting list\n",
    "- locate `Max` in the dictionary and get it's Posting list\n",
    "- Merge the two Posting list (Union)"
   ]
  },
  {
   "cell_type": "markdown",
   "id": "aceb1a55",
   "metadata": {},
   "source": [
    "## More general optimization\n",
    "- document frequency's for all terms.\n",
    "- Estimate the size of each Or by the sum of its documents freq\n",
    "- Pocess in increasing order of OR size."
   ]
  },
  {
   "cell_type": "code",
   "execution_count": null,
   "id": "2376c31e",
   "metadata": {},
   "outputs": [],
   "source": []
  }
 ],
 "metadata": {
  "kernelspec": {
   "display_name": "Python 3 (ipykernel)",
   "language": "python",
   "name": "python3"
  },
  "language_info": {
   "codemirror_mode": {
    "name": "ipython",
    "version": 3
   },
   "file_extension": ".py",
   "mimetype": "text/x-python",
   "name": "python",
   "nbconvert_exporter": "python",
   "pygments_lexer": "ipython3",
   "version": "3.9.7"
  }
 },
 "nbformat": 4,
 "nbformat_minor": 5
}
